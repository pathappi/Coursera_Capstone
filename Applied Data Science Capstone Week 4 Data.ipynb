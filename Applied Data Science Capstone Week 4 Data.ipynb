{
    "cells": [
        {
            "cell_type": "markdown",
            "metadata": {
                "collapsed": true
            },
            "source": "<h3>Data</h3>"
        },
        {
            "cell_type": "markdown",
            "metadata": {},
            "source": "In order to accomplish our goal, we will need to use a set of data and data analysis methodologies.\n\n<b>Data Collection</b>\n* API: Foursquare Neighborhood API\n* Venue types: Restaurant, Mall, gym, shop, super market\n\n<b>Clustering Method</b>\n* K-mean Algorithm\n\n<b>Visualization</b>\n* Matplotlib\n\n<b>Data Cleansing</b>\n* Pandas Dataframe"
        },
        {
            "cell_type": "code",
            "execution_count": null,
            "metadata": {},
            "outputs": [],
            "source": ""
        }
    ],
    "metadata": {
        "kernelspec": {
            "display_name": "Python 3.6",
            "language": "python",
            "name": "python3"
        },
        "language_info": {
            "codemirror_mode": {
                "name": "ipython",
                "version": 3
            },
            "file_extension": ".py",
            "mimetype": "text/x-python",
            "name": "python",
            "nbconvert_exporter": "python",
            "pygments_lexer": "ipython3",
            "version": "3.6.9"
        }
    },
    "nbformat": 4,
    "nbformat_minor": 1
}