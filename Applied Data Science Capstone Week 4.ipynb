{
    "cells": [
        {
            "cell_type": "markdown",
            "metadata": {
                "collapsed": true
            },
            "source": "<h3>Introduction</h3>"
        },
        {
            "cell_type": "markdown",
            "metadata": {},
            "source": "Toronto is one of the biggest and most crowded city in Canada, with the rise of number of cases of COVID-19 virus globaly, it is of the duty of every citizen to slow down the propagation of this virus.\nSo far most of the contamination cases happened in public areas and commerces so reducing or letting people know some of the buzzy areas to avoid will for sure slow down if not stop the contamination cycle.\nIs in this sight that we decided to analyse Toronto neighbohood data using foursquare API to determine the hot spots where we find most public commerces (restaurants, malls, hotels, gyms) so th epublic can be ."
        }
    ],
    "metadata": {
        "kernelspec": {
            "display_name": "Python 3.6",
            "language": "python",
            "name": "python3"
        },
        "language_info": {
            "codemirror_mode": {
                "name": "ipython",
                "version": 3
            },
            "file_extension": ".py",
            "mimetype": "text/x-python",
            "name": "python",
            "nbconvert_exporter": "python",
            "pygments_lexer": "ipython3",
            "version": "3.6.9"
        }
    },
    "nbformat": 4,
    "nbformat_minor": 1
}